{
  "nbformat": 4,
  "nbformat_minor": 0,
  "metadata": {
    "colab": {
      "name": "Untitled16.ipynb",
      "provenance": [],
      "authorship_tag": "ABX9TyPp7HzOwcXU++8joMvKDgM3",
      "include_colab_link": true
    },
    "kernelspec": {
      "name": "python3",
      "display_name": "Python 3"
    }
  },
  "cells": [
    {
      "cell_type": "markdown",
      "metadata": {
        "id": "view-in-github",
        "colab_type": "text"
      },
      "source": [
        "<a href=\"https://colab.research.google.com/github/choisooyeon007/hello-world/blob/master/study_DecisionTree.ipynb\" target=\"_parent\"><img src=\"https://colab.research.google.com/assets/colab-badge.svg\" alt=\"Open In Colab\"/></a>"
      ]
    },
    {
      "cell_type": "code",
      "metadata": {
        "id": "87vN5vLyNeW0",
        "colab_type": "code",
        "colab": {
          "base_uri": "https://localhost:8080/",
          "height": 34
        },
        "outputId": "ff14b769-a40b-4207-accc-ddccbc5b59bd"
      },
      "source": [
        "\n",
        "import numpy as np\n",
        "import pandas as pd\n",
        "import matplotlib.pyplot as plt\n",
        "import matplotlib as mpl\n",
        "import seaborn as sns\n",
        "import scipy as sp\n",
        "from scipy import stats\n",
        "import sklearn as sk\n",
        "from sklearn import linear_model\n",
        "from sklearn.linear_model import LinearRegression\n",
        "import statsmodels.api as sm\n",
        "import statsmodels.formula.api as smf\n",
        "from sklearn.tree import DecisionTreeClassifier\n",
        "from sklearn.tree import DecisionTreeRegressor \n",
        "from IPython.display import Image\n",
        "Image('tree.png')\n",
        "\n",
        "\n"
      ],
      "execution_count": 42,
      "outputs": [
        {
          "output_type": "execute_result",
          "data": {
            "image/png": "tree.png",
            "text/plain": [
              "<IPython.core.display.Image object>"
            ]
          },
          "metadata": {
            "tags": []
          },
          "execution_count": 42
        }
      ]
    },
    {
      "cell_type": "code",
      "metadata": {
        "id": "TVDgUPd0Nf_T",
        "colab_type": "code",
        "outputId": "a59c6481-3842-487e-a9ad-59399334aac4",
        "colab": {
          "base_uri": "https://localhost:8080/",
          "height": 68
        }
      },
      "source": [
        "from sklearn.datasets import load_iris\n",
        "\n",
        "data = load_iris()\n",
        "X = data.data[:, 2:]\n",
        "y = data.target\n",
        "feature_names = data.feature_names[2:]\n",
        "print(feature_names)\n",
        "\n",
        "print(X.shape)\n",
        "print(y.shape)\n",
        "\n",
        "tree1 = DecisionTreeClassifier(criterion='entropy', max_depth=2, random_state=0).fit(X, y)\n",
        "\n"
      ],
      "execution_count": 40,
      "outputs": [
        {
          "output_type": "stream",
          "text": [
            "['petal length (cm)', 'petal width (cm)']\n",
            "(150, 2)\n",
            "(150,)\n"
          ],
          "name": "stdout"
        }
      ]
    },
    {
      "cell_type": "code",
      "metadata": {
        "id": "Lw7wJtEQy7J3",
        "colab_type": "code",
        "colab": {}
      },
      "source": [
        "import pydot\n",
        "from IPython.core.display import Image\n",
        "from sklearn.tree import export_graphviz\n",
        "\n",
        "\n",
        "def draw_decision_tree(model):\n",
        "    dot_buf = io.StringIO()\n",
        "    export_graphviz(model, out_file=dot_buf, feature_names=feature_names)\n",
        "    graph = pydot.graph_from_dot_data(dot_buf.getvalue())[0]\n",
        "    image = graph.create_png()\n",
        "    return Image(image)\n",
        "\n",
        "\n",
        "def plot_decision_regions(X, y, model, title):\n",
        "    resolution = 0.01\n",
        "    markers = ('s', '^', 'o')\n",
        "    colors = ('red', 'blue', 'lightgreen')\n",
        "    cmap = mpl.colors.ListedColormap(colors)\n",
        "\n",
        "    x1_min, x1_max = X[:, 0].min() - 1, X[:, 0].max() + 1\n",
        "    x2_min, x2_max = X[:, 1].min() - 1, X[:, 1].max() + 1\n",
        "    xx1, xx2 = np.meshgrid(np.arange(x1_min, x1_max, resolution),\n",
        "                           np.arange(x2_min, x2_max, resolution))\n",
        "    Z = model.predict(\n",
        "        np.array([xx1.ravel(), xx2.ravel()]).T).reshape(xx1.shape)\n",
        "\n",
        "    plt.contour(xx1, xx2, Z, cmap=mpl.colors.ListedColormap(['k']))\n",
        "    plt.contourf(xx1, xx2, Z, alpha=0.4, cmap=cmap)\n",
        "    plt.xlim(xx1.min(), xx1.max())\n",
        "    plt.ylim(xx2.min(), xx2.max())\n",
        "\n",
        "    for idx, cl in enumerate(np.unique(y)):\n",
        "        plt.scatter(x=X[y == cl, 0], y=X[y == cl, 1], alpha=0.8,\n",
        "                    c=[cmap(idx)], marker=markers[idx], s=80, label=cl)\n",
        "\n",
        "    plt.xlabel(data.feature_names[2])\n",
        "    plt.ylabel(data.feature_names[3])\n",
        "    plt.legend(loc='upper left')\n",
        "    plt.title(title)\n",
        "\n",
        "    return Z\n",
        "\n"
      ],
      "execution_count": 0,
      "outputs": []
    },
    {
      "cell_type": "code",
      "metadata": {
        "id": "s-1Ts8W126A1",
        "colab_type": "code",
        "colab": {
          "base_uri": "https://localhost:8080/",
          "height": 376
        },
        "outputId": "15f99ec0-b0f5-470f-dc09-7f401191c2cb"
      },
      "source": [
        "draw_decision_tree(tree1)"
      ],
      "execution_count": 49,
      "outputs": [
        {
          "output_type": "execute_result",
          "data": {
            "image/png": "[encoded data removed]",
            "text/plain": [
              "<IPython.core.display.Image object>"
            ]
          },
          "metadata": {
            "tags": []
          },
          "execution_count": 49
        }
      ]
    },
    {
      "cell_type": "code",
      "metadata": {
        "id": "Tzj6Gg4vUoEf",
        "colab_type": "code",
        "outputId": "54eabc5e-0a30-4d54-9570-f285a32b89df",
        "colab": {
          "base_uri": "https://localhost:8080/",
          "height": 180
        }
      },
      "source": [
        "plot_decision_regions(X, y, tree1, \"Depth 4\")\n",
        "plt.show()"
      ],
      "execution_count": 30,
      "outputs": [
        {
          "output_type": "error",
          "ename": "NameError",
          "evalue": "ignored",
          "traceback": [
            "\u001b[0;31m---------------------------------------------------------------------------\u001b[0m",
            "\u001b[0;31mNameError\u001b[0m                                 Traceback (most recent call last)",
            "\u001b[0;32m<ipython-input-30-11e7822eeaff>\u001b[0m in \u001b[0;36m<module>\u001b[0;34m()\u001b[0m\n\u001b[0;32m----> 1\u001b[0;31m \u001b[0mplot_decision_regions\u001b[0m\u001b[0;34m(\u001b[0m\u001b[0mX\u001b[0m\u001b[0;34m,\u001b[0m \u001b[0my\u001b[0m\u001b[0;34m,\u001b[0m \u001b[0mtree1\u001b[0m\u001b[0;34m,\u001b[0m \u001b[0;34m\"Depth 4\"\u001b[0m\u001b[0;34m)\u001b[0m\u001b[0;34m\u001b[0m\u001b[0;34m\u001b[0m\u001b[0m\n\u001b[0m\u001b[1;32m      2\u001b[0m \u001b[0mplt\u001b[0m\u001b[0;34m.\u001b[0m\u001b[0mshow\u001b[0m\u001b[0;34m(\u001b[0m\u001b[0;34m)\u001b[0m\u001b[0;34m\u001b[0m\u001b[0;34m\u001b[0m\u001b[0m\n",
            "\u001b[0;31mNameError\u001b[0m: name 'plot_decision_regions' is not defined"
          ]
        }
      ]
    },
    {
      "cell_type": "code",
      "metadata": {
        "id": "ArCnFMXaXwCH",
        "colab_type": "code",
        "outputId": "de893e5a-d0ad-4b42-f61e-70a5db5d3ac7",
        "colab": {
          "base_uri": "https://localhost:8080/",
          "height": 68
        }
      },
      "source": [
        "from sklearn.metrics import confusion_matrix\n",
        "\n",
        "confusion_matrix(y, tree1.predict(X))"
      ],
      "execution_count": 25,
      "outputs": [
        {
          "output_type": "execute_result",
          "data": {
            "text/plain": [
              "array([[50,  0,  0],\n",
              "       [ 0, 49,  1],\n",
              "       [ 0,  1, 49]])"
            ]
          },
          "metadata": {
            "tags": []
          },
          "execution_count": 25
        }
      ]
    }
  ]
}