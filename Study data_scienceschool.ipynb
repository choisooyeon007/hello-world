{
  "nbformat": 4,
  "nbformat_minor": 0,
  "metadata": {
    "colab": {
      "name": "Untitled14.ipynb",
      "provenance": [],
      "include_colab_link": true
    },
    "kernelspec": {
      "name": "python3",
      "display_name": "Python 3"
    }
  },
  "cells": [
    {
      "cell_type": "markdown",
      "metadata": {
        "id": "view-in-github",
        "colab_type": "text"
      },
      "source": [
        "<a href=\"https://colab.research.google.com/github/choisooyeon007/hello-world/blob/master/Study%20data_scienceschool.ipynb\" target=\"_parent\"><img src=\"https://colab.research.google.com/assets/colab-badge.svg\" alt=\"Open In Colab\"/></a>"
      ]
    },
    {
      "cell_type": "code",
      "metadata": {
        "id": "qTMRIzf9Er0v",
        "colab_type": "code",
        "colab": {}
      },
      "source": [
        "from sklearn.datasets import load_iris\n",
        "iris = load_iris()\n",
        "print(iris.DESCR)"
      ],
      "execution_count": 0,
      "outputs": []
    },
    {
      "cell_type": "code",
      "metadata": {
        "id": "DXh4CLourmWM",
        "colab_type": "code",
        "colab": {}
      },
      "source": [
        "import numpy as np\n",
        "import pandas as pd\n",
        "import seaborn as sns\n",
        "import matplotlib.pyplot as plt\n"
      ],
      "execution_count": 0,
      "outputs": []
    },
    {
      "cell_type": "code",
      "metadata": {
        "id": "kChxGUDYGKCT",
        "colab_type": "code",
        "colab": {}
      },
      "source": [
        "df = pd.DataFrame(iris.data, columns=iris.feature_names )\n",
        "#print(df)\n",
        "sy = pd.Series(iris.target, dtype=\"category\")\n",
        "#print(sy)\n",
        "sy=sy.cat.rename_categories(iris.target_names)\n",
        "#print(sy)\n",
        "df['species']=sy\n",
        "df.head()"
      ],
      "execution_count": 0,
      "outputs": []
    },
    {
      "cell_type": "code",
      "metadata": {
        "id": "NTjo5DcBzi0O",
        "colab_type": "code",
        "colab": {}
      },
      "source": [
        "sns.pairplot(df,hue='species')\n",
        "plt.show()"
      ],
      "execution_count": 0,
      "outputs": []
    },
    {
      "cell_type": "code",
      "metadata": {
        "id": "8MiikJD_1V5Y",
        "colab_type": "code",
        "colab": {}
      },
      "source": [
        "sns.distplot(df[df.species == \"setosa\"][\"petal length (cm)\"], rug=True, label=\"setosa\")\n",
        "sns.distplot(df[df.species != \"setosa\"][\"petal length (cm)\"], rug=True, label=\"others\")\n",
        "plt.legend()\n",
        "plt.show()"
      ],
      "execution_count": 0,
      "outputs": []
    },
    {
      "cell_type": "code",
      "metadata": {
        "id": "iAedNIw49xLZ",
        "colab_type": "code",
        "colab": {}
      },
      "source": [
        "sns.distplot(df[df.species == \"virginica\"][\"petal length (cm)\"], hist=True, rug=True, label=\"virginica\")\n",
        "sns.distplot(df[df.species == \"versicolor\"][\"petal length (cm)\"], hist=True, rug=True, label=\"versicolor\")\n",
        "plt.legend()\n",
        "plt.show()"
      ],
      "execution_count": 0,
      "outputs": []
    },
    {
      "cell_type": "code",
      "metadata": {
        "id": "tKKuBZ65XUNJ",
        "colab_type": "code",
        "colab": {}
      },
      "source": [
        ""
      ],
      "execution_count": 0,
      "outputs": []
    },
    {
      "cell_type": "code",
      "metadata": {
        "id": "QAv8v1uz-7-t",
        "colab_type": "code",
        "colab": {}
      },
      "source": [
        "from sklearn.datasets import load_wine\n",
        "wine = load_wine()\n",
        "print(wine.DESCR)"
      ],
      "execution_count": 0,
      "outputs": []
    },
    {
      "cell_type": "code",
      "metadata": {
        "id": "BQVaA-bH_Kk5",
        "colab_type": "code",
        "colab": {}
      },
      "source": [
        "df=pd.DataFrame(wine.data, columns=wine.feature_names)\n",
        "dt=pd.Series(wine.target,dtype=\"category\").cat.rename_categories(wine.target_names)\n",
        "df['class']=dt\n",
        "df.head()\n"
      ],
      "execution_count": 0,
      "outputs": []
    },
    {
      "cell_type": "code",
      "metadata": {
        "id": "iUl2JchtVuto",
        "colab_type": "code",
        "colab": {}
      },
      "source": [
        "sns.pairplot(df,vars=['alcohol', 'malic_acid', 'ash', 'flavanoids'], hue='class')\n",
        "plt.show()"
      ],
      "execution_count": 0,
      "outputs": []
    },
    {
      "cell_type": "code",
      "metadata": {
        "id": "rFNXIAS1XWSN",
        "colab_type": "code",
        "colab": {}
      },
      "source": [
        "sns.distplot(df[dt == \"class_0\"][\"flavanoids\"], hist=True, rug=True, label='class_0') \n",
        "sns.distplot(df[dt == \"class_2\"][\"flavanoids\"], hist=True, rug=True,label='class_2')\n",
        "plt.legend()\n",
        "plt.show()"
      ],
      "execution_count": 0,
      "outputs": []
    },
    {
      "cell_type": "code",
      "metadata": {
        "id": "_qMNzZQOcfBq",
        "colab_type": "code",
        "colab": {}
      },
      "source": [
        "from sklearn.datasets import fetch_20newsgroups\n",
        "newsgroups = fetch_20newsgroups(subset='all')\n",
        "print(newsgroups.DESCR)\n"
      ],
      "execution_count": 0,
      "outputs": []
    },
    {
      "cell_type": "code",
      "metadata": {
        "id": "lO2Fn0nOdl6b",
        "colab_type": "code",
        "colab": {}
      },
      "source": [
        "print(newsgroups.data[3])\n",
        "print(\"*\"*80)\n",
        "print(newsgroups.target_names[newsgroups.target[3]])"
      ],
      "execution_count": 0,
      "outputs": []
    },
    {
      "cell_type": "code",
      "metadata": {
        "id": "Wm_9xXtIfqjz",
        "colab_type": "code",
        "colab": {}
      },
      "source": [
        "from sklearn.datasets import load_digits\n",
        "digits = load_digits()\n",
        "print(digits.DESCR)\n"
      ],
      "execution_count": 0,
      "outputs": []
    },
    {
      "cell_type": "code",
      "metadata": {
        "id": "jiXRlhH9gBWK",
        "colab_type": "code",
        "colab": {}
      },
      "source": [
        "np.random.seed(0)\n",
        "N = 4\n",
        "M = 10\n",
        "fig = plt.figure(figsize=(10, 5))\n",
        "plt.subplots_adjust(top=1, bottom=0, hspace=0, wspace=0.05)\n",
        "for i in range(N):\n",
        "    for j in range(M):\n",
        "        k = i*M+j\n",
        "        ax = fig.add_subplot(N, M, k+1)\n",
        "        ax.imshow(digits.images[k], cmap=plt.cm.bone, interpolation=\"none\")\n",
        "        ax.grid(False)\n",
        "        ax.xaxis.set_ticks([])\n",
        "        ax.yaxis.set_ticks([])\n",
        "        plt.title(digits.target_names[digits.target[k]])\n",
        "plt.tight_layout()\n",
        "plt.show()"
      ],
      "execution_count": 0,
      "outputs": []
    }
  ]
}