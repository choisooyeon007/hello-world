{
  "nbformat": 4,
  "nbformat_minor": 0,
  "metadata": {
    "colab": {
      "name": "Untitled0.ipynb",
      "provenance": [],
      "collapsed_sections": [],
      "authorship_tag": "ABX9TyMUNifdTFPkltQGkCPGe2wP",
      "include_colab_link": true
    },
    "kernelspec": {
      "name": "python3",
      "display_name": "Python 3"
    }
  },
  "cells": [
    {
      "cell_type": "markdown",
      "metadata": {
        "id": "view-in-github",
        "colab_type": "text"
      },
      "source": [
        "<a href=\"https://colab.research.google.com/github/choisooyeon007/hello-world/blob/master/Corona.ipynb\" target=\"_parent\"><img src=\"https://colab.research.google.com/assets/colab-badge.svg\" alt=\"Open In Colab\"/></a>"
      ]
    },
    {
      "cell_type": "code",
      "metadata": {
        "id": "-6qKRQ7Oty5l",
        "colab_type": "code",
        "colab": {
          "base_uri": "https://localhost:8080/",
          "height": 122
        },
        "outputId": "e66900f7-c05d-43c6-a3d8-21c2c5585364"
      },
      "source": [
        "from google.colab import drive\n",
        "drive.mount('/gdrive')\n"
      ],
      "execution_count": 27,
      "outputs": [
        {
          "output_type": "stream",
          "text": [
            "Go to this URL in a browser: https://accounts.google.com/o/oauth2/auth?client_id=947318989803-6bn6qk8qdgf4n4g3pfee6491hc0brc4i.apps.googleusercontent.com&redirect_uri=urn%3aietf%3awg%3aoauth%3a2.0%3aoob&response_type=code&scope=email%20https%3a%2f%2fwww.googleapis.com%2fauth%2fdocs.test%20https%3a%2f%2fwww.googleapis.com%2fauth%2fdrive%20https%3a%2f%2fwww.googleapis.com%2fauth%2fdrive.photos.readonly%20https%3a%2f%2fwww.googleapis.com%2fauth%2fpeopleapi.readonly\n",
            "\n",
            "Enter your authorization code:\n",
            "··········\n",
            "Mounted at /gdrive\n"
          ],
          "name": "stdout"
        }
      ]
    },
    {
      "cell_type": "code",
      "metadata": {
        "id": "UDOW_nCXufe7",
        "colab_type": "code",
        "colab": {
          "base_uri": "https://localhost:8080/",
          "height": 34
        },
        "outputId": "6d2b3576-5bf2-4fbf-9883-fd443f2670b9"
      },
      "source": [
        "!ls \"/gdrive/My Drive\"/'Colab Notebooks'"
      ],
      "execution_count": 31,
      "outputs": [
        {
          "output_type": "stream",
          "text": [
            "'변화율(1-2월) (1)'   changes.csv  'Untitled0 (1).ipynb'   Untitled0.ipynb\n"
          ],
          "name": "stdout"
        }
      ]
    },
    {
      "cell_type": "code",
      "metadata": {
        "id": "q_T8k1vNvT3o",
        "colab_type": "code",
        "colab": {}
      },
      "source": [
        "import pandas as pd"
      ],
      "execution_count": 0,
      "outputs": []
    },
    {
      "cell_type": "code",
      "metadata": {
        "id": "CwmkKmrQvkkK",
        "colab_type": "code",
        "colab": {
          "base_uri": "https://localhost:8080/",
          "height": 419
        },
        "outputId": "81690833-f4a7-4b0a-bac0-8700902f7e27"
      },
      "source": [
        "pd.read_csv(\"changes.csv\")"
      ],
      "execution_count": 33,
      "outputs": [
        {
          "output_type": "execute_result",
          "data": {
            "text/html": [
              "<div>\n",
              "<style scoped>\n",
              "    .dataframe tbody tr th:only-of-type {\n",
              "        vertical-align: middle;\n",
              "    }\n",
              "\n",
              "    .dataframe tbody tr th {\n",
              "        vertical-align: top;\n",
              "    }\n",
              "\n",
              "    .dataframe thead th {\n",
              "        text-align: right;\n",
              "    }\n",
              "</style>\n",
              "<table border=\"1\" class=\"dataframe\">\n",
              "  <thead>\n",
              "    <tr style=\"text-align: right;\">\n",
              "      <th></th>\n",
              "      <th>date 17</th>\n",
              "      <th>date</th>\n",
              "      <th>time</th>\n",
              "      <th>dong</th>\n",
              "      <th>pop 17</th>\n",
              "      <th>pop 18</th>\n",
              "      <th>pop 19</th>\n",
              "      <th>average 17-9</th>\n",
              "      <th>pop 20</th>\n",
              "      <th>pop(20-avg)</th>\n",
              "    </tr>\n",
              "  </thead>\n",
              "  <tbody>\n",
              "    <tr>\n",
              "      <th>0</th>\n",
              "      <td>20170101</td>\n",
              "      <td>101</td>\n",
              "      <td>0</td>\n",
              "      <td>11110515</td>\n",
              "      <td>16846.9908</td>\n",
              "      <td>14471.4116</td>\n",
              "      <td>14943.0531</td>\n",
              "      <td>15,420</td>\n",
              "      <td>14,474</td>\n",
              "      <td>-6.14%</td>\n",
              "    </tr>\n",
              "    <tr>\n",
              "      <th>1</th>\n",
              "      <td>20170101</td>\n",
              "      <td>101</td>\n",
              "      <td>0</td>\n",
              "      <td>11110530</td>\n",
              "      <td>25606.3679</td>\n",
              "      <td>23059.7992</td>\n",
              "      <td>19105.5265</td>\n",
              "      <td>22,591</td>\n",
              "      <td>22,805</td>\n",
              "      <td>0.95%</td>\n",
              "    </tr>\n",
              "    <tr>\n",
              "      <th>2</th>\n",
              "      <td>20170101</td>\n",
              "      <td>101</td>\n",
              "      <td>0</td>\n",
              "      <td>11110540</td>\n",
              "      <td>5724.9509</td>\n",
              "      <td>4928.6410</td>\n",
              "      <td>4383.4182</td>\n",
              "      <td>5,012</td>\n",
              "      <td>5,285</td>\n",
              "      <td>5.44%</td>\n",
              "    </tr>\n",
              "    <tr>\n",
              "      <th>3</th>\n",
              "      <td>20170101</td>\n",
              "      <td>101</td>\n",
              "      <td>0</td>\n",
              "      <td>11110550</td>\n",
              "      <td>11691.6393</td>\n",
              "      <td>14060.9810</td>\n",
              "      <td>9592.8533</td>\n",
              "      <td>11,782</td>\n",
              "      <td>15,553</td>\n",
              "      <td>32.01%</td>\n",
              "    </tr>\n",
              "    <tr>\n",
              "      <th>4</th>\n",
              "      <td>20170101</td>\n",
              "      <td>101</td>\n",
              "      <td>0</td>\n",
              "      <td>11110560</td>\n",
              "      <td>24976.4805</td>\n",
              "      <td>20322.3298</td>\n",
              "      <td>17902.1947</td>\n",
              "      <td>21,067</td>\n",
              "      <td>19,085</td>\n",
              "      <td>-9.41%</td>\n",
              "    </tr>\n",
              "    <tr>\n",
              "      <th>...</th>\n",
              "      <td>...</td>\n",
              "      <td>...</td>\n",
              "      <td>...</td>\n",
              "      <td>...</td>\n",
              "      <td>...</td>\n",
              "      <td>...</td>\n",
              "      <td>...</td>\n",
              "      <td>...</td>\n",
              "      <td>...</td>\n",
              "      <td>...</td>\n",
              "    </tr>\n",
              "    <tr>\n",
              "      <th>483733</th>\n",
              "      <td>20170217</td>\n",
              "      <td>217</td>\n",
              "      <td>12</td>\n",
              "      <td>11680690</td>\n",
              "      <td>19300.2347</td>\n",
              "      <td>15619.9220</td>\n",
              "      <td>15023.5634</td>\n",
              "      <td>16,648</td>\n",
              "      <td>17,262</td>\n",
              "      <td>3.69%</td>\n",
              "    </tr>\n",
              "    <tr>\n",
              "      <th>483734</th>\n",
              "      <td>20170217</td>\n",
              "      <td>217</td>\n",
              "      <td>12</td>\n",
              "      <td>11680700</td>\n",
              "      <td>37530.7361</td>\n",
              "      <td>40682.0084</td>\n",
              "      <td>40779.4086</td>\n",
              "      <td>39,664</td>\n",
              "      <td>42,108</td>\n",
              "      <td>6.16%</td>\n",
              "    </tr>\n",
              "    <tr>\n",
              "      <th>483735</th>\n",
              "      <td>20170217</td>\n",
              "      <td>217</td>\n",
              "      <td>12</td>\n",
              "      <td>11680720</td>\n",
              "      <td>27336.3277</td>\n",
              "      <td>23168.8029</td>\n",
              "      <td>22915.5890</td>\n",
              "      <td>24,474</td>\n",
              "      <td>27,341</td>\n",
              "      <td>11.72%</td>\n",
              "    </tr>\n",
              "    <tr>\n",
              "      <th>483736</th>\n",
              "      <td>20170217</td>\n",
              "      <td>217</td>\n",
              "      <td>12</td>\n",
              "      <td>11680730</td>\n",
              "      <td>19713.4570</td>\n",
              "      <td>20286.1579</td>\n",
              "      <td>18202.6655</td>\n",
              "      <td>19,401</td>\n",
              "      <td>17,171</td>\n",
              "      <td>-11.49%</td>\n",
              "    </tr>\n",
              "    <tr>\n",
              "      <th>483737</th>\n",
              "      <td>20170217</td>\n",
              "      <td>217</td>\n",
              "      <td>12</td>\n",
              "      <td>11680740</td>\n",
              "      <td>13841.8350</td>\n",
              "      <td>13330.2398</td>\n",
              "      <td>1.0000</td>\n",
              "      <td>NaN</td>\n",
              "      <td>NaN</td>\n",
              "      <td>NaN</td>\n",
              "    </tr>\n",
              "  </tbody>\n",
              "</table>\n",
              "<p>483738 rows × 10 columns</p>\n",
              "</div>"
            ],
            "text/plain": [
              "         date 17  date  time  ...  average 17-9   pop 20  pop(20-avg)\n",
              "0       20170101   101     0  ...       15,420   14,474        -6.14%\n",
              "1       20170101   101     0  ...       22,591   22,805         0.95%\n",
              "2       20170101   101     0  ...        5,012    5,285         5.44%\n",
              "3       20170101   101     0  ...       11,782   15,553        32.01%\n",
              "4       20170101   101     0  ...       21,067   19,085        -9.41%\n",
              "...          ...   ...   ...  ...           ...      ...          ...\n",
              "483733  20170217   217    12  ...       16,648   17,262         3.69%\n",
              "483734  20170217   217    12  ...       39,664   42,108         6.16%\n",
              "483735  20170217   217    12  ...       24,474   27,341        11.72%\n",
              "483736  20170217   217    12  ...       19,401   17,171       -11.49%\n",
              "483737  20170217   217    12  ...           NaN      NaN          NaN\n",
              "\n",
              "[483738 rows x 10 columns]"
            ]
          },
          "metadata": {
            "tags": []
          },
          "execution_count": 33
        }
      ]
    }
  ]
}