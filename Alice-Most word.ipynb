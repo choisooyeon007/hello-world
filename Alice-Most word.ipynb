{
  "nbformat": 4,
  "nbformat_minor": 0,
  "metadata": {
    "colab": {
      "name": "Untitled6.ipynb",
      "provenance": [],
      "include_colab_link": true
    },
    "kernelspec": {
      "name": "python3",
      "display_name": "Python 3"
    }
  },
  "cells": [
    {
      "cell_type": "markdown",
      "metadata": {
        "id": "view-in-github",
        "colab_type": "text"
      },
      "source": [
        "<a href=\"https://colab.research.google.com/github/choisooyeon007/hello-world/blob/master/Alice-Most%20word.ipynb\" target=\"_parent\"><img src=\"https://colab.research.google.com/assets/colab-badge.svg\" alt=\"Open In Colab\"/></a>"
      ]
    },
    {
      "cell_type": "code",
      "metadata": {
        "id": "pXmZ0ykGuIo8",
        "colab_type": "code",
        "colab": {
          "base_uri": "https://localhost:8080/",
          "height": 305
        },
        "outputId": "4a43fd06-4db4-4005-b016-330d6893639e"
      },
      "source": [
        "!wget https://raw.githubusercontent.com/watson-ij/2019-smart-city-ml-2/master/alice.txt\n",
        "txt=open('alice.txt').read()\n",
        "def word(txt):\n",
        "    for i in \",./[]*()!'\\\"-_?;:\":\n",
        "        txt=txt.replace(i,\"\")\n",
        "    txt=txt.lower().split()\n",
        "    return txt\n",
        "dict={}\n",
        "for i in word(txt):\n",
        "    if i in dict:\n",
        "        dict[i]+=1\n",
        "    else:\n",
        "        dict[i]=1\n",
        "\n",
        "sum=0\n",
        "for i in dict:\n",
        "    sum+=dict[i]\n",
        "avg=sum/(len(dict))\n",
        "print(\"average count:\", \"%0.2f\" %avg)\n",
        "\n",
        "max_count=0\n",
        "max_word=\"\"\n",
        "for i in dict:\n",
        "    if dict[i]>max_count:\n",
        "        max_count=dict[i]\n",
        "        max_word=i\n",
        "print(\"max word:\",max_word)\n",
        "print(\"max count:\", max_count)\n",
        "\n",
        "lst=[]\n",
        "for i in dict:\n",
        "    if dict[i]==1:\n",
        "        lst.append(i)\n",
        "print(\"no of words with count 1:\",len(lst))\n",
        "\n",
        "lst=sorted(dict.items(),key=lambda x:x[1], reverse=True)\n",
        "print(\"word with second most count:\",lst[1][0])\n",
        "\n"
      ],
      "execution_count": 35,
      "outputs": [
        {
          "output_type": "stream",
          "text": [
            "--2019-10-07 06:45:29--  https://raw.githubusercontent.com/watson-ij/2019-smart-city-ml-2/master/alice.txt\n",
            "Resolving raw.githubusercontent.com (raw.githubusercontent.com)... 151.101.0.133, 151.101.64.133, 151.101.128.133, ...\n",
            "Connecting to raw.githubusercontent.com (raw.githubusercontent.com)|151.101.0.133|:443... connected.\n",
            "HTTP request sent, awaiting response... 200 OK\n",
            "Length: 53074 (52K) [text/plain]\n",
            "Saving to: ‘alice.txt.24’\n",
            "\n",
            "\ralice.txt.24          0%[                    ]       0  --.-KB/s               \ralice.txt.24        100%[===================>]  51.83K  --.-KB/s    in 0.02s   \n",
            "\n",
            "2019-10-07 06:45:29 (2.46 MB/s) - ‘alice.txt.24’ saved [53074/53074]\n",
            "\n",
            "average count: 6.18\n",
            "max word: the\n",
            "max count: 628\n",
            "no of words with count 1: 755\n",
            "word with second most count: and\n"
          ],
          "name": "stdout"
        }
      ]
    }
  ]
}